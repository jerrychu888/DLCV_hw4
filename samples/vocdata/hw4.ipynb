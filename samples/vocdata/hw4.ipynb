{
 "cells": [
  {
   "cell_type": "code",
   "execution_count": 1,
   "metadata": {},
   "outputs": [
    {
     "name": "stdout",
     "output_type": "stream",
     "text": [
      "Collecting pycocotools\n",
      "  Downloading https://files.pythonhosted.org/packages/96/84/9a07b1095fd8555ba3f3d519517c8743c2554a245f9476e5e39869f948d2/pycocotools-2.0.0.tar.gz (1.5MB)\n",
      "\u001b[K    100% |████████████████████████████████| 1.5MB 1.1MB/s eta 0:00:01\n",
      "\u001b[?25hBuilding wheels for collected packages: pycocotools\n",
      "  Running setup.py bdist_wheel for pycocotools ... \u001b[?25ldone\n",
      "\u001b[?25h  Stored in directory: /home/iblis/.cache/pip/wheels/dc/e6/36/0e1ae88c868eb42d3f92181b1c9bbd0b217a7ec3da6bd62e55\n",
      "Successfully built pycocotools\n",
      "Installing collected packages: pycocotools\n",
      "Successfully installed pycocotools-2.0.0\n"
     ]
    }
   ],
   "source": [
    "!pip install pycocotools"
   ]
  },
  {
   "cell_type": "code",
   "execution_count": 2,
   "metadata": {},
   "outputs": [],
   "source": [
    "import matplotlib.pyplot as plt\n",
    "import cv2\n",
    "import numpy as np\n",
    "import json\n",
    "import glob\n",
    "\n",
    "from pycocotools.coco import COCO\n",
    "from pycocotools.cocoeval import COCOeval"
   ]
  },
  {
   "cell_type": "code",
   "execution_count": 3,
   "metadata": {},
   "outputs": [
    {
     "name": "stdout",
     "output_type": "stream",
     "text": [
      "loading annotations into memory...\n",
      "Done (t=0.19s)\n",
      "creating index...\n",
      "index created!\n"
     ]
    }
   ],
   "source": [
    "coco = COCO(\"pascal_train.json\") # load training annotations"
   ]
  },
  {
   "cell_type": "code",
   "execution_count": 4,
   "metadata": {},
   "outputs": [
    {
     "data": {
      "text/plain": [
       "{1: {'supercategory': 'aeroplane', 'name': 'aeroplane', 'id': 1},\n",
       " 2: {'supercategory': 'bicycle', 'name': 'bicycle', 'id': 2},\n",
       " 3: {'supercategory': 'bird', 'name': 'bird', 'id': 3},\n",
       " 4: {'supercategory': 'boat', 'name': 'boat', 'id': 4},\n",
       " 5: {'supercategory': 'bottle', 'name': 'bottle', 'id': 5},\n",
       " 6: {'supercategory': 'bus', 'name': 'bus', 'id': 6},\n",
       " 7: {'supercategory': 'car', 'name': 'car', 'id': 7},\n",
       " 8: {'supercategory': 'cat', 'name': 'cat', 'id': 8},\n",
       " 9: {'supercategory': 'chair', 'name': 'chair', 'id': 9},\n",
       " 10: {'supercategory': 'cow', 'name': 'cow', 'id': 10},\n",
       " 11: {'supercategory': 'diningtable', 'name': 'diningtable', 'id': 11},\n",
       " 12: {'supercategory': 'dog', 'name': 'dog', 'id': 12},\n",
       " 13: {'supercategory': 'horse', 'name': 'horse', 'id': 13},\n",
       " 14: {'supercategory': 'motorbike', 'name': 'motorbike', 'id': 14},\n",
       " 15: {'supercategory': 'person', 'name': 'person', 'id': 15},\n",
       " 16: {'supercategory': 'pottedplant', 'name': 'pottedplant', 'id': 16},\n",
       " 17: {'supercategory': 'sheep', 'name': 'sheep', 'id': 17},\n",
       " 18: {'supercategory': 'sofa', 'name': 'sofa', 'id': 18},\n",
       " 19: {'supercategory': 'train', 'name': 'train', 'id': 19},\n",
       " 20: {'supercategory': 'tvmonitor', 'name': 'tvmonitor', 'id': 20}}"
      ]
     },
     "execution_count": 4,
     "metadata": {},
     "output_type": "execute_result"
    }
   ],
   "source": [
    "coco.cats # check the category"
   ]
  },
  {
   "cell_type": "code",
   "execution_count": null,
   "metadata": {},
   "outputs": [],
   "source": []
  }
 ],
 "metadata": {
  "kernelspec": {
   "display_name": "Python 3",
   "language": "python",
   "name": "python3"
  },
  "language_info": {
   "codemirror_mode": {
    "name": "ipython",
    "version": 3
   },
   "file_extension": ".py",
   "mimetype": "text/x-python",
   "name": "python",
   "nbconvert_exporter": "python",
   "pygments_lexer": "ipython3",
   "version": "3.6.8"
  }
 },
 "nbformat": 4,
 "nbformat_minor": 4
}
